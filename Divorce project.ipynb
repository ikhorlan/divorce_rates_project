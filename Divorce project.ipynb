{
 "cells": [
  {
   "cell_type": "markdown",
   "id": "800b9659",
   "metadata": {},
   "source": [
    "<h3>Divorce Rates EDA<h3>"
   ]
  },
  {
   "cell_type": "markdown",
   "id": "e52875f4",
   "metadata": {},
   "source": [
    "Kazakhstan reported the second highest divorce rate in 2021 after the Maldives. This EDA will look at the divorce data from the World Population Review and see if there are determinant of divorce. Additional data was collected from UN sites and Kaggle. I used my previous EDAs on happyness score and gender inquality index, which included health, education, labor, economics and political indicators. I added a dataset called Countries Different Parameters which included yearly population growth, migrant population, fertility age and household size. I used Radom Forest algorithm for feature importance that predict divorce rates in countries. For visualization I used percent stacked bar charts to demonstrate devorce rate and marrige by geographic regions. "
   ]
  },
  {
   "cell_type": "code",
   "execution_count": 1,
   "id": "3a922022",
   "metadata": {},
   "outputs": [],
   "source": [
    "import pandas as pd\n",
    "import numpy as np\n",
    "import matplotlib.pyplot as plt\n",
    "import matplotlib.patches as mpatches\n",
    "import seaborn as sns\n",
    "from sklearn.ensemble import RandomForestRegressor\n",
    "from sklearn.model_selection import train_test_split\n",
    "from model_inspector import get_inspector\n",
    "from sklearn.model_selection import GridSearchCV, KFold\n",
    "from sklearn.linear_model import LinearRegression\n",
    "from sklearn.preprocessing import StandardScaler\n",
    "import shap"
   ]
  },
  {
   "cell_type": "code",
   "execution_count": 2,
   "id": "1c45b99f",
   "metadata": {},
   "outputs": [],
   "source": [
    "div_data=pd.read_csv('../final_proposal_data/divorce_data.csv')"
   ]
  },
  {
   "cell_type": "code",
   "execution_count": 3,
   "id": "f47217be",
   "metadata": {
    "scrolled": true
   },
   "outputs": [
    {
     "data": {
      "text/html": [
       "<div>\n",
       "<style scoped>\n",
       "    .dataframe tbody tr th:only-of-type {\n",
       "        vertical-align: middle;\n",
       "    }\n",
       "\n",
       "    .dataframe tbody tr th {\n",
       "        vertical-align: top;\n",
       "    }\n",
       "\n",
       "    .dataframe thead th {\n",
       "        text-align: right;\n",
       "    }\n",
       "</style>\n",
       "<table border=\"1\" class=\"dataframe\">\n",
       "  <thead>\n",
       "    <tr style=\"text-align: right;\">\n",
       "      <th></th>\n",
       "      <th>place</th>\n",
       "      <th>pop2023</th>\n",
       "      <th>growthRate</th>\n",
       "      <th>area</th>\n",
       "      <th>country</th>\n",
       "      <th>cca3</th>\n",
       "      <th>cca2</th>\n",
       "      <th>ccn3</th>\n",
       "      <th>region</th>\n",
       "      <th>subregion</th>\n",
       "      <th>landAreaKm</th>\n",
       "      <th>density</th>\n",
       "      <th>densityMi</th>\n",
       "      <th>Rank</th>\n",
       "      <th>divorceRate</th>\n",
       "      <th>dataYear</th>\n",
       "      <th>rank</th>\n",
       "    </tr>\n",
       "  </thead>\n",
       "  <tbody>\n",
       "    <tr>\n",
       "      <th>0</th>\n",
       "      <td>462</td>\n",
       "      <td>521021</td>\n",
       "      <td>-0.00528</td>\n",
       "      <td>300.0</td>\n",
       "      <td>Maldives</td>\n",
       "      <td>MDV</td>\n",
       "      <td>MV</td>\n",
       "      <td>462</td>\n",
       "      <td>Asia</td>\n",
       "      <td>Southern Asia, South Central Asia</td>\n",
       "      <td>300.0</td>\n",
       "      <td>1736.7367</td>\n",
       "      <td>4498.1480</td>\n",
       "      <td>174</td>\n",
       "      <td>5.52</td>\n",
       "      <td>2020</td>\n",
       "      <td>1</td>\n",
       "    </tr>\n",
       "    <tr>\n",
       "      <th>1</th>\n",
       "      <td>398</td>\n",
       "      <td>19606633</td>\n",
       "      <td>0.01076</td>\n",
       "      <td>2724900.0</td>\n",
       "      <td>Kazakhstan</td>\n",
       "      <td>KAZ</td>\n",
       "      <td>KZ</td>\n",
       "      <td>398</td>\n",
       "      <td>Asia</td>\n",
       "      <td>Central Asia</td>\n",
       "      <td>2699700.0</td>\n",
       "      <td>7.2625</td>\n",
       "      <td>18.8099</td>\n",
       "      <td>66</td>\n",
       "      <td>4.60</td>\n",
       "      <td>2021</td>\n",
       "      <td>2</td>\n",
       "    </tr>\n",
       "    <tr>\n",
       "      <th>2</th>\n",
       "      <td>643</td>\n",
       "      <td>144444359</td>\n",
       "      <td>-0.00186</td>\n",
       "      <td>17098242.0</td>\n",
       "      <td>Russia</td>\n",
       "      <td>RUS</td>\n",
       "      <td>RU</td>\n",
       "      <td>643</td>\n",
       "      <td>Europe</td>\n",
       "      <td>Eastern Europe</td>\n",
       "      <td>16376870.0</td>\n",
       "      <td>8.8200</td>\n",
       "      <td>22.8439</td>\n",
       "      <td>9</td>\n",
       "      <td>3.90</td>\n",
       "      <td>2020</td>\n",
       "      <td>3</td>\n",
       "    </tr>\n",
       "    <tr>\n",
       "      <th>3</th>\n",
       "      <td>56</td>\n",
       "      <td>11686140</td>\n",
       "      <td>0.00259</td>\n",
       "      <td>30528.0</td>\n",
       "      <td>Belgium</td>\n",
       "      <td>BEL</td>\n",
       "      <td>BE</td>\n",
       "      <td>56</td>\n",
       "      <td>Europe</td>\n",
       "      <td>Western Europe</td>\n",
       "      <td>30280.0</td>\n",
       "      <td>385.9359</td>\n",
       "      <td>999.5741</td>\n",
       "      <td>82</td>\n",
       "      <td>3.70</td>\n",
       "      <td>2020</td>\n",
       "      <td>4</td>\n",
       "    </tr>\n",
       "    <tr>\n",
       "      <th>4</th>\n",
       "      <td>112</td>\n",
       "      <td>9498238</td>\n",
       "      <td>-0.00385</td>\n",
       "      <td>207600.0</td>\n",
       "      <td>Belarus</td>\n",
       "      <td>BLR</td>\n",
       "      <td>BY</td>\n",
       "      <td>112</td>\n",
       "      <td>Europe</td>\n",
       "      <td>Eastern Europe</td>\n",
       "      <td>202980.0</td>\n",
       "      <td>46.7940</td>\n",
       "      <td>121.1964</td>\n",
       "      <td>97</td>\n",
       "      <td>3.70</td>\n",
       "      <td>2020</td>\n",
       "      <td>5</td>\n",
       "    </tr>\n",
       "  </tbody>\n",
       "</table>\n",
       "</div>"
      ],
      "text/plain": [
       "   place    pop2023  growthRate        area     country cca3 cca2  ccn3  \\\n",
       "0    462     521021    -0.00528       300.0    Maldives  MDV   MV   462   \n",
       "1    398   19606633     0.01076   2724900.0  Kazakhstan  KAZ   KZ   398   \n",
       "2    643  144444359    -0.00186  17098242.0      Russia  RUS   RU   643   \n",
       "3     56   11686140     0.00259     30528.0     Belgium  BEL   BE    56   \n",
       "4    112    9498238    -0.00385    207600.0     Belarus  BLR   BY   112   \n",
       "\n",
       "   region                          subregion  landAreaKm    density  \\\n",
       "0    Asia  Southern Asia, South Central Asia       300.0  1736.7367   \n",
       "1    Asia                       Central Asia   2699700.0     7.2625   \n",
       "2  Europe                     Eastern Europe  16376870.0     8.8200   \n",
       "3  Europe                     Western Europe     30280.0   385.9359   \n",
       "4  Europe                     Eastern Europe    202980.0    46.7940   \n",
       "\n",
       "   densityMi  Rank  divorceRate dataYear  rank  \n",
       "0  4498.1480   174         5.52     2020     1  \n",
       "1    18.8099    66         4.60     2021     2  \n",
       "2    22.8439     9         3.90     2020     3  \n",
       "3   999.5741    82         3.70     2020     4  \n",
       "4   121.1964    97         3.70     2020     5  "
      ]
     },
     "execution_count": 3,
     "metadata": {},
     "output_type": "execute_result"
    }
   ],
   "source": [
    "div_data.head()"
   ]
  },
  {
   "cell_type": "code",
   "execution_count": 4,
   "id": "7abe0cca",
   "metadata": {},
   "outputs": [
    {
     "data": {
      "text/plain": [
       "(107, 17)"
      ]
     },
     "execution_count": 4,
     "metadata": {},
     "output_type": "execute_result"
    }
   ],
   "source": [
    "div_data.shape"
   ]
  },
  {
   "cell_type": "code",
   "execution_count": 20,
   "id": "c5a197c1",
   "metadata": {},
   "outputs": [],
   "source": [
    "div_data.rename(columns={'divorceRate':'divorce_rate'}, inplace=True)"
   ]
  },
  {
   "cell_type": "code",
   "execution_count": 22,
   "id": "81f36ac8",
   "metadata": {},
   "outputs": [],
   "source": [
    "div_short=div_data[['country', 'divorce_rate', 'growthRate']]"
   ]
  },
  {
   "cell_type": "code",
   "execution_count": 23,
   "id": "4e884830",
   "metadata": {},
   "outputs": [],
   "source": [
    "gii=pd.read_csv('../final_proposal_data/Gender_Inequality_Index.csv')"
   ]
  },
  {
   "cell_type": "code",
   "execution_count": 24,
   "id": "0324b8d9",
   "metadata": {},
   "outputs": [],
   "source": [
    "gii.rename(columns = {'Country':'country'}, inplace=True)"
   ]
  },
  {
   "cell_type": "code",
   "execution_count": 25,
   "id": "59f20c16",
   "metadata": {},
   "outputs": [
    {
     "data": {
      "text/plain": [
       "Index(['country', 'Human_development', 'GII', 'Rank', 'Maternal_mortality',\n",
       "       'Adolescent_birth_rate', 'Seats_parliament', 'F_secondary_educ',\n",
       "       'M_secondary_educ', 'F_Labour_force', 'M_Labour_force'],\n",
       "      dtype='object')"
      ]
     },
     "execution_count": 25,
     "metadata": {},
     "output_type": "execute_result"
    }
   ],
   "source": [
    "gii.columns"
   ]
  },
  {
   "cell_type": "code",
   "execution_count": 26,
   "id": "ce90dc8d",
   "metadata": {},
   "outputs": [
    {
     "data": {
      "text/plain": [
       "(195, 11)"
      ]
     },
     "execution_count": 26,
     "metadata": {},
     "output_type": "execute_result"
    }
   ],
   "source": [
    "gii.shape"
   ]
  },
  {
   "cell_type": "code",
   "execution_count": 27,
   "id": "52a5238b",
   "metadata": {},
   "outputs": [],
   "source": [
    "gii_short=gii[['country', 'GII', 'Human_development', 'Seats_parliament', 'F_secondary_educ',\n",
    "       'M_secondary_educ', 'F_Labour_force', 'M_Labour_force']]"
   ]
  },
  {
   "cell_type": "code",
   "execution_count": 28,
   "id": "8edac69b",
   "metadata": {},
   "outputs": [],
   "source": [
    "hap=pd.read_csv('../final_proposal_data/World Happiness Report 2021.csv')"
   ]
  },
  {
   "cell_type": "code",
   "execution_count": 29,
   "id": "53dc84e9",
   "metadata": {
    "scrolled": true
   },
   "outputs": [
    {
     "data": {
      "text/plain": [
       "Index(['Country name', 'Regional indicator', 'Ladder score',\n",
       "       'Standard error of ladder score', 'upperwhisker', 'lowerwhisker',\n",
       "       'Logged GDP per capita', 'Social support', 'Healthy life expectancy',\n",
       "       'Freedom to make life choices', 'Generosity',\n",
       "       'Perceptions of corruption'],\n",
       "      dtype='object')"
      ]
     },
     "execution_count": 29,
     "metadata": {},
     "output_type": "execute_result"
    }
   ],
   "source": [
    "hap.columns"
   ]
  },
  {
   "cell_type": "code",
   "execution_count": 30,
   "id": "14381ed6",
   "metadata": {},
   "outputs": [],
   "source": [
    "hap.rename(columns={'Country name':'country', 'Ladder score':'happiness_score'}, inplace=True)"
   ]
  },
  {
   "cell_type": "code",
   "execution_count": 31,
   "id": "7e912688",
   "metadata": {},
   "outputs": [],
   "source": [
    "hap_short=hap[['country', 'happiness_score', 'Social support', 'Freedom to make life choices', 'Generosity',\n",
    "       'Perceptions of corruption']]"
   ]
  },
  {
   "cell_type": "code",
   "execution_count": 32,
   "id": "be267db0",
   "metadata": {},
   "outputs": [],
   "source": [
    "div_gii=div_short.merge(gii_short, on='country', how='inner')"
   ]
  },
  {
   "cell_type": "code",
   "execution_count": 33,
   "id": "b6a3e028",
   "metadata": {
    "scrolled": true
   },
   "outputs": [
    {
     "data": {
      "text/html": [
       "<div>\n",
       "<style scoped>\n",
       "    .dataframe tbody tr th:only-of-type {\n",
       "        vertical-align: middle;\n",
       "    }\n",
       "\n",
       "    .dataframe tbody tr th {\n",
       "        vertical-align: top;\n",
       "    }\n",
       "\n",
       "    .dataframe thead th {\n",
       "        text-align: right;\n",
       "    }\n",
       "</style>\n",
       "<table border=\"1\" class=\"dataframe\">\n",
       "  <thead>\n",
       "    <tr style=\"text-align: right;\">\n",
       "      <th></th>\n",
       "      <th>country</th>\n",
       "      <th>divorce_rate</th>\n",
       "      <th>growthRate</th>\n",
       "      <th>GII</th>\n",
       "      <th>Human_development</th>\n",
       "      <th>Seats_parliament</th>\n",
       "      <th>F_secondary_educ</th>\n",
       "      <th>M_secondary_educ</th>\n",
       "      <th>F_Labour_force</th>\n",
       "      <th>M_Labour_force</th>\n",
       "    </tr>\n",
       "  </thead>\n",
       "  <tbody>\n",
       "    <tr>\n",
       "      <th>0</th>\n",
       "      <td>Maldives</td>\n",
       "      <td>5.52</td>\n",
       "      <td>-0.00528</td>\n",
       "      <td>0.348</td>\n",
       "      <td>High</td>\n",
       "      <td>4.6</td>\n",
       "      <td>46.4</td>\n",
       "      <td>41.5</td>\n",
       "      <td>34.3</td>\n",
       "      <td>67.5</td>\n",
       "    </tr>\n",
       "    <tr>\n",
       "      <th>1</th>\n",
       "      <td>Kazakhstan</td>\n",
       "      <td>4.60</td>\n",
       "      <td>0.01076</td>\n",
       "      <td>0.161</td>\n",
       "      <td>Very high</td>\n",
       "      <td>24.5</td>\n",
       "      <td>99.8</td>\n",
       "      <td>100.0</td>\n",
       "      <td>63.3</td>\n",
       "      <td>75.5</td>\n",
       "    </tr>\n",
       "    <tr>\n",
       "      <th>2</th>\n",
       "      <td>Russia</td>\n",
       "      <td>3.90</td>\n",
       "      <td>-0.00186</td>\n",
       "      <td>0.203</td>\n",
       "      <td>Very high</td>\n",
       "      <td>16.5</td>\n",
       "      <td>92.8</td>\n",
       "      <td>95.9</td>\n",
       "      <td>54.5</td>\n",
       "      <td>69.7</td>\n",
       "    </tr>\n",
       "    <tr>\n",
       "      <th>3</th>\n",
       "      <td>Belgium</td>\n",
       "      <td>3.70</td>\n",
       "      <td>0.00259</td>\n",
       "      <td>0.048</td>\n",
       "      <td>Very high</td>\n",
       "      <td>42.9</td>\n",
       "      <td>87.2</td>\n",
       "      <td>89.7</td>\n",
       "      <td>49.8</td>\n",
       "      <td>58.8</td>\n",
       "    </tr>\n",
       "    <tr>\n",
       "      <th>4</th>\n",
       "      <td>Belarus</td>\n",
       "      <td>3.70</td>\n",
       "      <td>-0.00385</td>\n",
       "      <td>0.104</td>\n",
       "      <td>Very high</td>\n",
       "      <td>34.7</td>\n",
       "      <td>97.5</td>\n",
       "      <td>99.0</td>\n",
       "      <td>57.3</td>\n",
       "      <td>71.4</td>\n",
       "    </tr>\n",
       "  </tbody>\n",
       "</table>\n",
       "</div>"
      ],
      "text/plain": [
       "      country  divorce_rate  growthRate    GII Human_development  \\\n",
       "0    Maldives          5.52    -0.00528  0.348              High   \n",
       "1  Kazakhstan          4.60     0.01076  0.161         Very high   \n",
       "2      Russia          3.90    -0.00186  0.203         Very high   \n",
       "3     Belgium          3.70     0.00259  0.048         Very high   \n",
       "4     Belarus          3.70    -0.00385  0.104         Very high   \n",
       "\n",
       "   Seats_parliament  F_secondary_educ  M_secondary_educ  F_Labour_force  \\\n",
       "0               4.6              46.4              41.5            34.3   \n",
       "1              24.5              99.8             100.0            63.3   \n",
       "2              16.5              92.8              95.9            54.5   \n",
       "3              42.9              87.2              89.7            49.8   \n",
       "4              34.7              97.5              99.0            57.3   \n",
       "\n",
       "   M_Labour_force  \n",
       "0            67.5  \n",
       "1            75.5  \n",
       "2            69.7  \n",
       "3            58.8  \n",
       "4            71.4  "
      ]
     },
     "execution_count": 33,
     "metadata": {},
     "output_type": "execute_result"
    }
   ],
   "source": [
    "div_gii.head()"
   ]
  },
  {
   "cell_type": "code",
   "execution_count": 34,
   "id": "a783b976",
   "metadata": {},
   "outputs": [
    {
     "data": {
      "text/plain": [
       "(104, 10)"
      ]
     },
     "execution_count": 34,
     "metadata": {},
     "output_type": "execute_result"
    }
   ],
   "source": [
    "div_gii.shape"
   ]
  },
  {
   "cell_type": "code",
   "execution_count": 35,
   "id": "26de7db4",
   "metadata": {},
   "outputs": [],
   "source": [
    "div_gii_hap=div_gii.merge(hap_short, on='country', how='inner')"
   ]
  },
  {
   "cell_type": "code",
   "execution_count": 36,
   "id": "13583d0e",
   "metadata": {
    "scrolled": true
   },
   "outputs": [
    {
     "data": {
      "text/html": [
       "<div>\n",
       "<style scoped>\n",
       "    .dataframe tbody tr th:only-of-type {\n",
       "        vertical-align: middle;\n",
       "    }\n",
       "\n",
       "    .dataframe tbody tr th {\n",
       "        vertical-align: top;\n",
       "    }\n",
       "\n",
       "    .dataframe thead th {\n",
       "        text-align: right;\n",
       "    }\n",
       "</style>\n",
       "<table border=\"1\" class=\"dataframe\">\n",
       "  <thead>\n",
       "    <tr style=\"text-align: right;\">\n",
       "      <th></th>\n",
       "      <th>country</th>\n",
       "      <th>divorce_rate</th>\n",
       "      <th>growthRate</th>\n",
       "      <th>GII</th>\n",
       "      <th>Human_development</th>\n",
       "      <th>Seats_parliament</th>\n",
       "      <th>F_secondary_educ</th>\n",
       "      <th>M_secondary_educ</th>\n",
       "      <th>F_Labour_force</th>\n",
       "      <th>M_Labour_force</th>\n",
       "      <th>happiness_score</th>\n",
       "      <th>Social support</th>\n",
       "      <th>Freedom to make life choices</th>\n",
       "      <th>Generosity</th>\n",
       "      <th>Perceptions of corruption</th>\n",
       "    </tr>\n",
       "  </thead>\n",
       "  <tbody>\n",
       "    <tr>\n",
       "      <th>0</th>\n",
       "      <td>Maldives</td>\n",
       "      <td>5.52</td>\n",
       "      <td>-0.00528</td>\n",
       "      <td>0.348</td>\n",
       "      <td>High</td>\n",
       "      <td>4.6</td>\n",
       "      <td>46.4</td>\n",
       "      <td>41.5</td>\n",
       "      <td>34.3</td>\n",
       "      <td>67.5</td>\n",
       "      <td>5.198</td>\n",
       "      <td>0.913</td>\n",
       "      <td>0.854</td>\n",
       "      <td>0.024</td>\n",
       "      <td>0.825</td>\n",
       "    </tr>\n",
       "    <tr>\n",
       "      <th>1</th>\n",
       "      <td>Kazakhstan</td>\n",
       "      <td>4.60</td>\n",
       "      <td>0.01076</td>\n",
       "      <td>0.161</td>\n",
       "      <td>Very high</td>\n",
       "      <td>24.5</td>\n",
       "      <td>99.8</td>\n",
       "      <td>100.0</td>\n",
       "      <td>63.3</td>\n",
       "      <td>75.5</td>\n",
       "      <td>6.152</td>\n",
       "      <td>0.952</td>\n",
       "      <td>0.853</td>\n",
       "      <td>-0.069</td>\n",
       "      <td>0.733</td>\n",
       "    </tr>\n",
       "    <tr>\n",
       "      <th>2</th>\n",
       "      <td>Russia</td>\n",
       "      <td>3.90</td>\n",
       "      <td>-0.00186</td>\n",
       "      <td>0.203</td>\n",
       "      <td>Very high</td>\n",
       "      <td>16.5</td>\n",
       "      <td>92.8</td>\n",
       "      <td>95.9</td>\n",
       "      <td>54.5</td>\n",
       "      <td>69.7</td>\n",
       "      <td>5.477</td>\n",
       "      <td>0.903</td>\n",
       "      <td>0.718</td>\n",
       "      <td>-0.111</td>\n",
       "      <td>0.845</td>\n",
       "    </tr>\n",
       "    <tr>\n",
       "      <th>3</th>\n",
       "      <td>Belgium</td>\n",
       "      <td>3.70</td>\n",
       "      <td>0.00259</td>\n",
       "      <td>0.048</td>\n",
       "      <td>Very high</td>\n",
       "      <td>42.9</td>\n",
       "      <td>87.2</td>\n",
       "      <td>89.7</td>\n",
       "      <td>49.8</td>\n",
       "      <td>58.8</td>\n",
       "      <td>6.834</td>\n",
       "      <td>0.906</td>\n",
       "      <td>0.783</td>\n",
       "      <td>-0.153</td>\n",
       "      <td>0.646</td>\n",
       "    </tr>\n",
       "    <tr>\n",
       "      <th>4</th>\n",
       "      <td>Belarus</td>\n",
       "      <td>3.70</td>\n",
       "      <td>-0.00385</td>\n",
       "      <td>0.104</td>\n",
       "      <td>Very high</td>\n",
       "      <td>34.7</td>\n",
       "      <td>97.5</td>\n",
       "      <td>99.0</td>\n",
       "      <td>57.3</td>\n",
       "      <td>71.4</td>\n",
       "      <td>5.534</td>\n",
       "      <td>0.910</td>\n",
       "      <td>0.650</td>\n",
       "      <td>-0.180</td>\n",
       "      <td>0.627</td>\n",
       "    </tr>\n",
       "  </tbody>\n",
       "</table>\n",
       "</div>"
      ],
      "text/plain": [
       "      country  divorce_rate  growthRate    GII Human_development  \\\n",
       "0    Maldives          5.52    -0.00528  0.348              High   \n",
       "1  Kazakhstan          4.60     0.01076  0.161         Very high   \n",
       "2      Russia          3.90    -0.00186  0.203         Very high   \n",
       "3     Belgium          3.70     0.00259  0.048         Very high   \n",
       "4     Belarus          3.70    -0.00385  0.104         Very high   \n",
       "\n",
       "   Seats_parliament  F_secondary_educ  M_secondary_educ  F_Labour_force  \\\n",
       "0               4.6              46.4              41.5            34.3   \n",
       "1              24.5              99.8             100.0            63.3   \n",
       "2              16.5              92.8              95.9            54.5   \n",
       "3              42.9              87.2              89.7            49.8   \n",
       "4              34.7              97.5              99.0            57.3   \n",
       "\n",
       "   M_Labour_force  happiness_score  Social support  \\\n",
       "0            67.5            5.198           0.913   \n",
       "1            75.5            6.152           0.952   \n",
       "2            69.7            5.477           0.903   \n",
       "3            58.8            6.834           0.906   \n",
       "4            71.4            5.534           0.910   \n",
       "\n",
       "   Freedom to make life choices  Generosity  Perceptions of corruption  \n",
       "0                         0.854       0.024                      0.825  \n",
       "1                         0.853      -0.069                      0.733  \n",
       "2                         0.718      -0.111                      0.845  \n",
       "3                         0.783      -0.153                      0.646  \n",
       "4                         0.650      -0.180                      0.627  "
      ]
     },
     "execution_count": 36,
     "metadata": {},
     "output_type": "execute_result"
    }
   ],
   "source": [
    "div_gii_hap.head()"
   ]
  },
  {
   "cell_type": "code",
   "execution_count": 37,
   "id": "af1c6b82",
   "metadata": {},
   "outputs": [
    {
     "data": {
      "text/plain": [
       "(88, 15)"
      ]
     },
     "execution_count": 37,
     "metadata": {},
     "output_type": "execute_result"
    }
   ],
   "source": [
    "div_gii_hap.shape"
   ]
  },
  {
   "cell_type": "code",
   "execution_count": 38,
   "id": "798f91a6",
   "metadata": {},
   "outputs": [],
   "source": [
    "house=pd.read_csv('../final_proposal_data/GDL-Average-household-size-data-2021.csv')"
   ]
  },
  {
   "cell_type": "code",
   "execution_count": 39,
   "id": "0c7de28f",
   "metadata": {},
   "outputs": [
    {
     "data": {
      "text/plain": [
       "(129, 2)"
      ]
     },
     "execution_count": 39,
     "metadata": {},
     "output_type": "execute_result"
    }
   ],
   "source": [
    "house.shape"
   ]
  },
  {
   "cell_type": "code",
   "execution_count": 40,
   "id": "2991a9ec",
   "metadata": {},
   "outputs": [],
   "source": [
    "div_all=div_gii_hap.merge(house, on='country', how='left')"
   ]
  },
  {
   "cell_type": "code",
   "execution_count": 41,
   "id": "0ea5c0f5",
   "metadata": {},
   "outputs": [
    {
     "data": {
      "text/plain": [
       "(88, 16)"
      ]
     },
     "execution_count": 41,
     "metadata": {},
     "output_type": "execute_result"
    }
   ],
   "source": [
    "div_all.shape"
   ]
  },
  {
   "cell_type": "code",
   "execution_count": 42,
   "id": "502dce43",
   "metadata": {
    "scrolled": true
   },
   "outputs": [
    {
     "data": {
      "text/html": [
       "<div>\n",
       "<style scoped>\n",
       "    .dataframe tbody tr th:only-of-type {\n",
       "        vertical-align: middle;\n",
       "    }\n",
       "\n",
       "    .dataframe tbody tr th {\n",
       "        vertical-align: top;\n",
       "    }\n",
       "\n",
       "    .dataframe thead th {\n",
       "        text-align: right;\n",
       "    }\n",
       "</style>\n",
       "<table border=\"1\" class=\"dataframe\">\n",
       "  <thead>\n",
       "    <tr style=\"text-align: right;\">\n",
       "      <th></th>\n",
       "      <th>country</th>\n",
       "      <th>divorce_rate</th>\n",
       "      <th>growthRate</th>\n",
       "      <th>GII</th>\n",
       "      <th>Human_development</th>\n",
       "      <th>Seats_parliament</th>\n",
       "      <th>F_secondary_educ</th>\n",
       "      <th>M_secondary_educ</th>\n",
       "      <th>F_Labour_force</th>\n",
       "      <th>M_Labour_force</th>\n",
       "      <th>happiness_score</th>\n",
       "      <th>Social support</th>\n",
       "      <th>Freedom to make life choices</th>\n",
       "      <th>Generosity</th>\n",
       "      <th>Perceptions of corruption</th>\n",
       "      <th>household_size</th>\n",
       "    </tr>\n",
       "  </thead>\n",
       "  <tbody>\n",
       "    <tr>\n",
       "      <th>0</th>\n",
       "      <td>Maldives</td>\n",
       "      <td>5.52</td>\n",
       "      <td>-0.00528</td>\n",
       "      <td>0.348</td>\n",
       "      <td>High</td>\n",
       "      <td>4.6</td>\n",
       "      <td>46.4</td>\n",
       "      <td>41.5</td>\n",
       "      <td>34.3</td>\n",
       "      <td>67.5</td>\n",
       "      <td>5.198</td>\n",
       "      <td>0.913</td>\n",
       "      <td>0.854</td>\n",
       "      <td>0.024</td>\n",
       "      <td>0.825</td>\n",
       "      <td>6.87</td>\n",
       "    </tr>\n",
       "    <tr>\n",
       "      <th>1</th>\n",
       "      <td>Kazakhstan</td>\n",
       "      <td>4.60</td>\n",
       "      <td>0.01076</td>\n",
       "      <td>0.161</td>\n",
       "      <td>Very high</td>\n",
       "      <td>24.5</td>\n",
       "      <td>99.8</td>\n",
       "      <td>100.0</td>\n",
       "      <td>63.3</td>\n",
       "      <td>75.5</td>\n",
       "      <td>6.152</td>\n",
       "      <td>0.952</td>\n",
       "      <td>0.853</td>\n",
       "      <td>-0.069</td>\n",
       "      <td>0.733</td>\n",
       "      <td>3.43</td>\n",
       "    </tr>\n",
       "    <tr>\n",
       "      <th>2</th>\n",
       "      <td>Russia</td>\n",
       "      <td>3.90</td>\n",
       "      <td>-0.00186</td>\n",
       "      <td>0.203</td>\n",
       "      <td>Very high</td>\n",
       "      <td>16.5</td>\n",
       "      <td>92.8</td>\n",
       "      <td>95.9</td>\n",
       "      <td>54.5</td>\n",
       "      <td>69.7</td>\n",
       "      <td>5.477</td>\n",
       "      <td>0.903</td>\n",
       "      <td>0.718</td>\n",
       "      <td>-0.111</td>\n",
       "      <td>0.845</td>\n",
       "      <td>NaN</td>\n",
       "    </tr>\n",
       "    <tr>\n",
       "      <th>3</th>\n",
       "      <td>Belgium</td>\n",
       "      <td>3.70</td>\n",
       "      <td>0.00259</td>\n",
       "      <td>0.048</td>\n",
       "      <td>Very high</td>\n",
       "      <td>42.9</td>\n",
       "      <td>87.2</td>\n",
       "      <td>89.7</td>\n",
       "      <td>49.8</td>\n",
       "      <td>58.8</td>\n",
       "      <td>6.834</td>\n",
       "      <td>0.906</td>\n",
       "      <td>0.783</td>\n",
       "      <td>-0.153</td>\n",
       "      <td>0.646</td>\n",
       "      <td>NaN</td>\n",
       "    </tr>\n",
       "    <tr>\n",
       "      <th>4</th>\n",
       "      <td>Belarus</td>\n",
       "      <td>3.70</td>\n",
       "      <td>-0.00385</td>\n",
       "      <td>0.104</td>\n",
       "      <td>Very high</td>\n",
       "      <td>34.7</td>\n",
       "      <td>97.5</td>\n",
       "      <td>99.0</td>\n",
       "      <td>57.3</td>\n",
       "      <td>71.4</td>\n",
       "      <td>5.534</td>\n",
       "      <td>0.910</td>\n",
       "      <td>0.650</td>\n",
       "      <td>-0.180</td>\n",
       "      <td>0.627</td>\n",
       "      <td>2.31</td>\n",
       "    </tr>\n",
       "    <tr>\n",
       "      <th>5</th>\n",
       "      <td>Moldova</td>\n",
       "      <td>3.30</td>\n",
       "      <td>0.04978</td>\n",
       "      <td>0.205</td>\n",
       "      <td>High</td>\n",
       "      <td>39.6</td>\n",
       "      <td>96.1</td>\n",
       "      <td>98.0</td>\n",
       "      <td>33.9</td>\n",
       "      <td>43.9</td>\n",
       "      <td>5.766</td>\n",
       "      <td>0.857</td>\n",
       "      <td>0.822</td>\n",
       "      <td>-0.079</td>\n",
       "      <td>0.918</td>\n",
       "      <td>2.06</td>\n",
       "    </tr>\n",
       "    <tr>\n",
       "      <th>6</th>\n",
       "      <td>China</td>\n",
       "      <td>3.20</td>\n",
       "      <td>-0.00015</td>\n",
       "      <td>0.192</td>\n",
       "      <td>High</td>\n",
       "      <td>24.9</td>\n",
       "      <td>78.3</td>\n",
       "      <td>85.4</td>\n",
       "      <td>61.6</td>\n",
       "      <td>74.3</td>\n",
       "      <td>5.339</td>\n",
       "      <td>0.811</td>\n",
       "      <td>0.904</td>\n",
       "      <td>-0.146</td>\n",
       "      <td>0.755</td>\n",
       "      <td>4.42</td>\n",
       "    </tr>\n",
       "  </tbody>\n",
       "</table>\n",
       "</div>"
      ],
      "text/plain": [
       "      country  divorce_rate  growthRate    GII Human_development  \\\n",
       "0    Maldives          5.52    -0.00528  0.348              High   \n",
       "1  Kazakhstan          4.60     0.01076  0.161         Very high   \n",
       "2      Russia          3.90    -0.00186  0.203         Very high   \n",
       "3     Belgium          3.70     0.00259  0.048         Very high   \n",
       "4     Belarus          3.70    -0.00385  0.104         Very high   \n",
       "5     Moldova          3.30     0.04978  0.205              High   \n",
       "6       China          3.20    -0.00015  0.192              High   \n",
       "\n",
       "   Seats_parliament  F_secondary_educ  M_secondary_educ  F_Labour_force  \\\n",
       "0               4.6              46.4              41.5            34.3   \n",
       "1              24.5              99.8             100.0            63.3   \n",
       "2              16.5              92.8              95.9            54.5   \n",
       "3              42.9              87.2              89.7            49.8   \n",
       "4              34.7              97.5              99.0            57.3   \n",
       "5              39.6              96.1              98.0            33.9   \n",
       "6              24.9              78.3              85.4            61.6   \n",
       "\n",
       "   M_Labour_force  happiness_score  Social support  \\\n",
       "0            67.5            5.198           0.913   \n",
       "1            75.5            6.152           0.952   \n",
       "2            69.7            5.477           0.903   \n",
       "3            58.8            6.834           0.906   \n",
       "4            71.4            5.534           0.910   \n",
       "5            43.9            5.766           0.857   \n",
       "6            74.3            5.339           0.811   \n",
       "\n",
       "   Freedom to make life choices  Generosity  Perceptions of corruption  \\\n",
       "0                         0.854       0.024                      0.825   \n",
       "1                         0.853      -0.069                      0.733   \n",
       "2                         0.718      -0.111                      0.845   \n",
       "3                         0.783      -0.153                      0.646   \n",
       "4                         0.650      -0.180                      0.627   \n",
       "5                         0.822      -0.079                      0.918   \n",
       "6                         0.904      -0.146                      0.755   \n",
       "\n",
       "   household_size  \n",
       "0            6.87  \n",
       "1            3.43  \n",
       "2             NaN  \n",
       "3             NaN  \n",
       "4            2.31  \n",
       "5            2.06  \n",
       "6            4.42  "
      ]
     },
     "execution_count": 42,
     "metadata": {},
     "output_type": "execute_result"
    }
   ],
   "source": [
    "div_all.head(7)"
   ]
  },
  {
   "cell_type": "code",
   "execution_count": 43,
   "id": "cac1c7bb",
   "metadata": {
    "scrolled": true
   },
   "outputs": [
    {
     "data": {
      "text/html": [
       "<div>\n",
       "<style scoped>\n",
       "    .dataframe tbody tr th:only-of-type {\n",
       "        vertical-align: middle;\n",
       "    }\n",
       "\n",
       "    .dataframe tbody tr th {\n",
       "        vertical-align: top;\n",
       "    }\n",
       "\n",
       "    .dataframe thead th {\n",
       "        text-align: right;\n",
       "    }\n",
       "</style>\n",
       "<table border=\"1\" class=\"dataframe\">\n",
       "  <thead>\n",
       "    <tr style=\"text-align: right;\">\n",
       "      <th></th>\n",
       "      <th>divorce_rate</th>\n",
       "      <th>growthRate</th>\n",
       "      <th>GII</th>\n",
       "      <th>Seats_parliament</th>\n",
       "      <th>F_secondary_educ</th>\n",
       "      <th>M_secondary_educ</th>\n",
       "      <th>F_Labour_force</th>\n",
       "      <th>M_Labour_force</th>\n",
       "      <th>happiness_score</th>\n",
       "      <th>Social support</th>\n",
       "      <th>Freedom to make life choices</th>\n",
       "      <th>Generosity</th>\n",
       "      <th>Perceptions of corruption</th>\n",
       "      <th>household_size</th>\n",
       "    </tr>\n",
       "  </thead>\n",
       "  <tbody>\n",
       "    <tr>\n",
       "      <th>divorce_rate</th>\n",
       "      <td>1.000000</td>\n",
       "      <td>-0.141180</td>\n",
       "      <td>-0.300944</td>\n",
       "      <td>-0.014626</td>\n",
       "      <td>0.262397</td>\n",
       "      <td>0.203660</td>\n",
       "      <td>0.074256</td>\n",
       "      <td>-0.192170</td>\n",
       "      <td>0.059218</td>\n",
       "      <td>0.147315</td>\n",
       "      <td>-0.083463</td>\n",
       "      <td>-0.092573</td>\n",
       "      <td>-0.094629</td>\n",
       "      <td>-0.097516</td>\n",
       "    </tr>\n",
       "    <tr>\n",
       "      <th>growthRate</th>\n",
       "      <td>-0.141180</td>\n",
       "      <td>1.000000</td>\n",
       "      <td>0.154367</td>\n",
       "      <td>0.087671</td>\n",
       "      <td>-0.059994</td>\n",
       "      <td>-0.069467</td>\n",
       "      <td>-0.073956</td>\n",
       "      <td>0.062929</td>\n",
       "      <td>0.146785</td>\n",
       "      <td>-0.021379</td>\n",
       "      <td>0.200858</td>\n",
       "      <td>0.055875</td>\n",
       "      <td>-0.103928</td>\n",
       "      <td>0.216322</td>\n",
       "    </tr>\n",
       "    <tr>\n",
       "      <th>GII</th>\n",
       "      <td>-0.300944</td>\n",
       "      <td>0.154367</td>\n",
       "      <td>1.000000</td>\n",
       "      <td>-0.483280</td>\n",
       "      <td>-0.635978</td>\n",
       "      <td>-0.635854</td>\n",
       "      <td>-0.585560</td>\n",
       "      <td>0.188689</td>\n",
       "      <td>-0.671236</td>\n",
       "      <td>-0.550644</td>\n",
       "      <td>-0.303771</td>\n",
       "      <td>-0.153200</td>\n",
       "      <td>0.490201</td>\n",
       "      <td>0.413999</td>\n",
       "    </tr>\n",
       "    <tr>\n",
       "      <th>Seats_parliament</th>\n",
       "      <td>-0.014626</td>\n",
       "      <td>0.087671</td>\n",
       "      <td>-0.483280</td>\n",
       "      <td>1.000000</td>\n",
       "      <td>0.220371</td>\n",
       "      <td>0.236501</td>\n",
       "      <td>0.452880</td>\n",
       "      <td>0.005021</td>\n",
       "      <td>0.567963</td>\n",
       "      <td>0.319608</td>\n",
       "      <td>0.406395</td>\n",
       "      <td>0.095124</td>\n",
       "      <td>-0.396508</td>\n",
       "      <td>-0.408209</td>\n",
       "    </tr>\n",
       "    <tr>\n",
       "      <th>F_secondary_educ</th>\n",
       "      <td>0.262397</td>\n",
       "      <td>-0.059994</td>\n",
       "      <td>-0.635978</td>\n",
       "      <td>0.220371</td>\n",
       "      <td>1.000000</td>\n",
       "      <td>0.946539</td>\n",
       "      <td>0.338245</td>\n",
       "      <td>-0.336543</td>\n",
       "      <td>0.296076</td>\n",
       "      <td>0.390337</td>\n",
       "      <td>0.161066</td>\n",
       "      <td>0.106829</td>\n",
       "      <td>-0.303629</td>\n",
       "      <td>-0.298158</td>\n",
       "    </tr>\n",
       "    <tr>\n",
       "      <th>M_secondary_educ</th>\n",
       "      <td>0.203660</td>\n",
       "      <td>-0.069467</td>\n",
       "      <td>-0.635854</td>\n",
       "      <td>0.236501</td>\n",
       "      <td>0.946539</td>\n",
       "      <td>1.000000</td>\n",
       "      <td>0.309319</td>\n",
       "      <td>-0.347777</td>\n",
       "      <td>0.253997</td>\n",
       "      <td>0.336145</td>\n",
       "      <td>0.083475</td>\n",
       "      <td>0.089284</td>\n",
       "      <td>-0.262494</td>\n",
       "      <td>-0.246158</td>\n",
       "    </tr>\n",
       "    <tr>\n",
       "      <th>F_Labour_force</th>\n",
       "      <td>0.074256</td>\n",
       "      <td>-0.073956</td>\n",
       "      <td>-0.585560</td>\n",
       "      <td>0.452880</td>\n",
       "      <td>0.338245</td>\n",
       "      <td>0.309319</td>\n",
       "      <td>1.000000</td>\n",
       "      <td>0.317220</td>\n",
       "      <td>0.618982</td>\n",
       "      <td>0.523190</td>\n",
       "      <td>0.545510</td>\n",
       "      <td>0.113294</td>\n",
       "      <td>-0.362710</td>\n",
       "      <td>-0.276955</td>\n",
       "    </tr>\n",
       "    <tr>\n",
       "      <th>M_Labour_force</th>\n",
       "      <td>-0.192170</td>\n",
       "      <td>0.062929</td>\n",
       "      <td>0.188689</td>\n",
       "      <td>0.005021</td>\n",
       "      <td>-0.336543</td>\n",
       "      <td>-0.347777</td>\n",
       "      <td>0.317220</td>\n",
       "      <td>1.000000</td>\n",
       "      <td>0.128609</td>\n",
       "      <td>-0.049768</td>\n",
       "      <td>0.368042</td>\n",
       "      <td>0.141942</td>\n",
       "      <td>-0.158593</td>\n",
       "      <td>0.044602</td>\n",
       "    </tr>\n",
       "    <tr>\n",
       "      <th>happiness_score</th>\n",
       "      <td>0.059218</td>\n",
       "      <td>0.146785</td>\n",
       "      <td>-0.671236</td>\n",
       "      <td>0.567963</td>\n",
       "      <td>0.296076</td>\n",
       "      <td>0.253997</td>\n",
       "      <td>0.618982</td>\n",
       "      <td>0.128609</td>\n",
       "      <td>1.000000</td>\n",
       "      <td>0.684427</td>\n",
       "      <td>0.603504</td>\n",
       "      <td>0.308285</td>\n",
       "      <td>-0.591552</td>\n",
       "      <td>-0.170108</td>\n",
       "    </tr>\n",
       "    <tr>\n",
       "      <th>Social support</th>\n",
       "      <td>0.147315</td>\n",
       "      <td>-0.021379</td>\n",
       "      <td>-0.550644</td>\n",
       "      <td>0.319608</td>\n",
       "      <td>0.390337</td>\n",
       "      <td>0.336145</td>\n",
       "      <td>0.523190</td>\n",
       "      <td>-0.049768</td>\n",
       "      <td>0.684427</td>\n",
       "      <td>1.000000</td>\n",
       "      <td>0.382551</td>\n",
       "      <td>0.257427</td>\n",
       "      <td>-0.349098</td>\n",
       "      <td>-0.122316</td>\n",
       "    </tr>\n",
       "    <tr>\n",
       "      <th>Freedom to make life choices</th>\n",
       "      <td>-0.083463</td>\n",
       "      <td>0.200858</td>\n",
       "      <td>-0.303771</td>\n",
       "      <td>0.406395</td>\n",
       "      <td>0.161066</td>\n",
       "      <td>0.083475</td>\n",
       "      <td>0.545510</td>\n",
       "      <td>0.368042</td>\n",
       "      <td>0.603504</td>\n",
       "      <td>0.382551</td>\n",
       "      <td>1.000000</td>\n",
       "      <td>0.308273</td>\n",
       "      <td>-0.461474</td>\n",
       "      <td>0.093516</td>\n",
       "    </tr>\n",
       "    <tr>\n",
       "      <th>Generosity</th>\n",
       "      <td>-0.092573</td>\n",
       "      <td>0.055875</td>\n",
       "      <td>-0.153200</td>\n",
       "      <td>0.095124</td>\n",
       "      <td>0.106829</td>\n",
       "      <td>0.089284</td>\n",
       "      <td>0.113294</td>\n",
       "      <td>0.141942</td>\n",
       "      <td>0.308285</td>\n",
       "      <td>0.257427</td>\n",
       "      <td>0.308273</td>\n",
       "      <td>1.000000</td>\n",
       "      <td>-0.325194</td>\n",
       "      <td>-0.012376</td>\n",
       "    </tr>\n",
       "    <tr>\n",
       "      <th>Perceptions of corruption</th>\n",
       "      <td>-0.094629</td>\n",
       "      <td>-0.103928</td>\n",
       "      <td>0.490201</td>\n",
       "      <td>-0.396508</td>\n",
       "      <td>-0.303629</td>\n",
       "      <td>-0.262494</td>\n",
       "      <td>-0.362710</td>\n",
       "      <td>-0.158593</td>\n",
       "      <td>-0.591552</td>\n",
       "      <td>-0.349098</td>\n",
       "      <td>-0.461474</td>\n",
       "      <td>-0.325194</td>\n",
       "      <td>1.000000</td>\n",
       "      <td>-0.233814</td>\n",
       "    </tr>\n",
       "    <tr>\n",
       "      <th>household_size</th>\n",
       "      <td>-0.097516</td>\n",
       "      <td>0.216322</td>\n",
       "      <td>0.413999</td>\n",
       "      <td>-0.408209</td>\n",
       "      <td>-0.298158</td>\n",
       "      <td>-0.246158</td>\n",
       "      <td>-0.276955</td>\n",
       "      <td>0.044602</td>\n",
       "      <td>-0.170108</td>\n",
       "      <td>-0.122316</td>\n",
       "      <td>0.093516</td>\n",
       "      <td>-0.012376</td>\n",
       "      <td>-0.233814</td>\n",
       "      <td>1.000000</td>\n",
       "    </tr>\n",
       "  </tbody>\n",
       "</table>\n",
       "</div>"
      ],
      "text/plain": [
       "                              divorce_rate  growthRate       GII  \\\n",
       "divorce_rate                      1.000000   -0.141180 -0.300944   \n",
       "growthRate                       -0.141180    1.000000  0.154367   \n",
       "GII                              -0.300944    0.154367  1.000000   \n",
       "Seats_parliament                 -0.014626    0.087671 -0.483280   \n",
       "F_secondary_educ                  0.262397   -0.059994 -0.635978   \n",
       "M_secondary_educ                  0.203660   -0.069467 -0.635854   \n",
       "F_Labour_force                    0.074256   -0.073956 -0.585560   \n",
       "M_Labour_force                   -0.192170    0.062929  0.188689   \n",
       "happiness_score                   0.059218    0.146785 -0.671236   \n",
       "Social support                    0.147315   -0.021379 -0.550644   \n",
       "Freedom to make life choices     -0.083463    0.200858 -0.303771   \n",
       "Generosity                       -0.092573    0.055875 -0.153200   \n",
       "Perceptions of corruption        -0.094629   -0.103928  0.490201   \n",
       "household_size                   -0.097516    0.216322  0.413999   \n",
       "\n",
       "                              Seats_parliament  F_secondary_educ  \\\n",
       "divorce_rate                         -0.014626          0.262397   \n",
       "growthRate                            0.087671         -0.059994   \n",
       "GII                                  -0.483280         -0.635978   \n",
       "Seats_parliament                      1.000000          0.220371   \n",
       "F_secondary_educ                      0.220371          1.000000   \n",
       "M_secondary_educ                      0.236501          0.946539   \n",
       "F_Labour_force                        0.452880          0.338245   \n",
       "M_Labour_force                        0.005021         -0.336543   \n",
       "happiness_score                       0.567963          0.296076   \n",
       "Social support                        0.319608          0.390337   \n",
       "Freedom to make life choices          0.406395          0.161066   \n",
       "Generosity                            0.095124          0.106829   \n",
       "Perceptions of corruption            -0.396508         -0.303629   \n",
       "household_size                       -0.408209         -0.298158   \n",
       "\n",
       "                              M_secondary_educ  F_Labour_force  \\\n",
       "divorce_rate                          0.203660        0.074256   \n",
       "growthRate                           -0.069467       -0.073956   \n",
       "GII                                  -0.635854       -0.585560   \n",
       "Seats_parliament                      0.236501        0.452880   \n",
       "F_secondary_educ                      0.946539        0.338245   \n",
       "M_secondary_educ                      1.000000        0.309319   \n",
       "F_Labour_force                        0.309319        1.000000   \n",
       "M_Labour_force                       -0.347777        0.317220   \n",
       "happiness_score                       0.253997        0.618982   \n",
       "Social support                        0.336145        0.523190   \n",
       "Freedom to make life choices          0.083475        0.545510   \n",
       "Generosity                            0.089284        0.113294   \n",
       "Perceptions of corruption            -0.262494       -0.362710   \n",
       "household_size                       -0.246158       -0.276955   \n",
       "\n",
       "                              M_Labour_force  happiness_score  Social support  \\\n",
       "divorce_rate                       -0.192170         0.059218        0.147315   \n",
       "growthRate                          0.062929         0.146785       -0.021379   \n",
       "GII                                 0.188689        -0.671236       -0.550644   \n",
       "Seats_parliament                    0.005021         0.567963        0.319608   \n",
       "F_secondary_educ                   -0.336543         0.296076        0.390337   \n",
       "M_secondary_educ                   -0.347777         0.253997        0.336145   \n",
       "F_Labour_force                      0.317220         0.618982        0.523190   \n",
       "M_Labour_force                      1.000000         0.128609       -0.049768   \n",
       "happiness_score                     0.128609         1.000000        0.684427   \n",
       "Social support                     -0.049768         0.684427        1.000000   \n",
       "Freedom to make life choices        0.368042         0.603504        0.382551   \n",
       "Generosity                          0.141942         0.308285        0.257427   \n",
       "Perceptions of corruption          -0.158593        -0.591552       -0.349098   \n",
       "household_size                      0.044602        -0.170108       -0.122316   \n",
       "\n",
       "                              Freedom to make life choices  Generosity  \\\n",
       "divorce_rate                                     -0.083463   -0.092573   \n",
       "growthRate                                        0.200858    0.055875   \n",
       "GII                                              -0.303771   -0.153200   \n",
       "Seats_parliament                                  0.406395    0.095124   \n",
       "F_secondary_educ                                  0.161066    0.106829   \n",
       "M_secondary_educ                                  0.083475    0.089284   \n",
       "F_Labour_force                                    0.545510    0.113294   \n",
       "M_Labour_force                                    0.368042    0.141942   \n",
       "happiness_score                                   0.603504    0.308285   \n",
       "Social support                                    0.382551    0.257427   \n",
       "Freedom to make life choices                      1.000000    0.308273   \n",
       "Generosity                                        0.308273    1.000000   \n",
       "Perceptions of corruption                        -0.461474   -0.325194   \n",
       "household_size                                    0.093516   -0.012376   \n",
       "\n",
       "                              Perceptions of corruption  household_size  \n",
       "divorce_rate                                  -0.094629       -0.097516  \n",
       "growthRate                                    -0.103928        0.216322  \n",
       "GII                                            0.490201        0.413999  \n",
       "Seats_parliament                              -0.396508       -0.408209  \n",
       "F_secondary_educ                              -0.303629       -0.298158  \n",
       "M_secondary_educ                              -0.262494       -0.246158  \n",
       "F_Labour_force                                -0.362710       -0.276955  \n",
       "M_Labour_force                                -0.158593        0.044602  \n",
       "happiness_score                               -0.591552       -0.170108  \n",
       "Social support                                -0.349098       -0.122316  \n",
       "Freedom to make life choices                  -0.461474        0.093516  \n",
       "Generosity                                    -0.325194       -0.012376  \n",
       "Perceptions of corruption                      1.000000       -0.233814  \n",
       "household_size                                -0.233814        1.000000  "
      ]
     },
     "execution_count": 43,
     "metadata": {},
     "output_type": "execute_result"
    }
   ],
   "source": [
    "div_all.corr()"
   ]
  },
  {
   "cell_type": "code",
   "execution_count": 45,
   "id": "42b7bb35",
   "metadata": {
    "scrolled": true
   },
   "outputs": [
    {
     "data": {
      "text/html": [
       "<div>\n",
       "<style scoped>\n",
       "    .dataframe tbody tr th:only-of-type {\n",
       "        vertical-align: middle;\n",
       "    }\n",
       "\n",
       "    .dataframe tbody tr th {\n",
       "        vertical-align: top;\n",
       "    }\n",
       "\n",
       "    .dataframe thead th {\n",
       "        text-align: right;\n",
       "    }\n",
       "</style>\n",
       "<table border=\"1\" class=\"dataframe\">\n",
       "  <thead>\n",
       "    <tr style=\"text-align: right;\">\n",
       "      <th></th>\n",
       "      <th>divorce_rate</th>\n",
       "    </tr>\n",
       "    <tr>\n",
       "      <th>Human_development</th>\n",
       "      <th></th>\n",
       "    </tr>\n",
       "  </thead>\n",
       "  <tbody>\n",
       "    <tr>\n",
       "      <th>Very high</th>\n",
       "      <td>1.888525</td>\n",
       "    </tr>\n",
       "    <tr>\n",
       "      <th>High</th>\n",
       "      <td>1.538571</td>\n",
       "    </tr>\n",
       "    <tr>\n",
       "      <th>Medium</th>\n",
       "      <td>0.942857</td>\n",
       "    </tr>\n",
       "  </tbody>\n",
       "</table>\n",
       "</div>"
      ],
      "text/plain": [
       "                   divorce_rate\n",
       "Human_development              \n",
       "Very high              1.888525\n",
       "High                   1.538571\n",
       "Medium                 0.942857"
      ]
     },
     "execution_count": 45,
     "metadata": {},
     "output_type": "execute_result"
    }
   ],
   "source": [
    "div_gii_hdi=div_gii.groupby('Human_development').agg({'divorce_rate':'mean'}).sort_values('divorce_rate', ascending=False)\n",
    "div_gii_hdi"
   ]
  },
  {
   "cell_type": "code",
   "execution_count": 46,
   "id": "af504de5",
   "metadata": {},
   "outputs": [
    {
     "data": {
      "image/png": "[encoded data removed]",
      "text/plain": [
       "<Figure size 576x432 with 1 Axes>"
      ]
     },
     "metadata": {
      "needs_background": "light"
     },
     "output_type": "display_data"
    }
   ],
   "source": [
    "ax=div_all.boxplot(column='divorce_rate', by='Human_development', figsize=(8, 6), rot=0, vert=False)"
   ]
  },
  {
   "cell_type": "markdown",
   "id": "4ca45da5",
   "metadata": {},
   "source": [
    "<h4>Random Forest<h4>"
   ]
  },
  {
   "cell_type": "code",
   "execution_count": 47,
   "id": "2fdc52b8",
   "metadata": {},
   "outputs": [],
   "source": [
    "rfr = RandomForestRegressor(n_estimators=100, max_features=1, max_depth=3, n_jobs=-1, random_state=42)"
   ]
  },
  {
   "cell_type": "code",
   "execution_count": 48,
   "id": "05b056ba",
   "metadata": {},
   "outputs": [],
   "source": [
    "X = div_all.select_dtypes('number').fillna(-999).drop(columns=['divorce_rate'])\n",
    "y = div_all.divorce_rate"
   ]
  },
  {
   "cell_type": "code",
   "execution_count": 49,
   "id": "ce5dc567",
   "metadata": {},
   "outputs": [],
   "source": [
    "#X_train, X_test, y_train, y_test = train_test_split(X, y, test_size=0.5, random_state=42)\n",
    "X_train, X_temp, y_train, y_temp = train_test_split(X, y, test_size=0.3, random_state=42)\n",
    "X_val, X_test, y_val, y_test = train_test_split(X_temp, y_temp, test_size=0.5, random_state=42)"
   ]
  },
  {
   "cell_type": "code",
   "execution_count": 50,
   "id": "f98de3ce",
   "metadata": {},
   "outputs": [
    {
     "data": {
      "text/html": [
       "<div>\n",
       "<style scoped>\n",
       "    .dataframe tbody tr th:only-of-type {\n",
       "        vertical-align: middle;\n",
       "    }\n",
       "\n",
       "    .dataframe tbody tr th {\n",
       "        vertical-align: top;\n",
       "    }\n",
       "\n",
       "    .dataframe thead th {\n",
       "        text-align: right;\n",
       "    }\n",
       "</style>\n",
       "<table border=\"1\" class=\"dataframe\">\n",
       "  <thead>\n",
       "    <tr style=\"text-align: right;\">\n",
       "      <th></th>\n",
       "      <th>growthRate</th>\n",
       "      <th>GII</th>\n",
       "      <th>Seats_parliament</th>\n",
       "      <th>F_secondary_educ</th>\n",
       "      <th>M_secondary_educ</th>\n",
       "      <th>F_Labour_force</th>\n",
       "      <th>M_Labour_force</th>\n",
       "      <th>happiness_score</th>\n",
       "      <th>Social support</th>\n",
       "      <th>Freedom to make life choices</th>\n",
       "      <th>Generosity</th>\n",
       "      <th>Perceptions of corruption</th>\n",
       "      <th>household_size</th>\n",
       "    </tr>\n",
       "  </thead>\n",
       "  <tbody>\n",
       "    <tr>\n",
       "      <th>39</th>\n",
       "      <td>0.00338</td>\n",
       "      <td>0.098</td>\n",
       "      <td>31.1</td>\n",
       "      <td>99.8</td>\n",
       "      <td>99.8</td>\n",
       "      <td>58.0</td>\n",
       "      <td>67.1</td>\n",
       "      <td>7.064</td>\n",
       "      <td>0.934</td>\n",
       "      <td>0.859</td>\n",
       "      <td>0.233</td>\n",
       "      <td>0.459</td>\n",
       "      <td>-999.0</td>\n",
       "    </tr>\n",
       "    <tr>\n",
       "      <th>31</th>\n",
       "      <td>0.00737</td>\n",
       "      <td>0.016</td>\n",
       "      <td>45.0</td>\n",
       "      <td>99.1</td>\n",
       "      <td>99.3</td>\n",
       "      <td>60.3</td>\n",
       "      <td>72.0</td>\n",
       "      <td>7.392</td>\n",
       "      <td>0.954</td>\n",
       "      <td>0.960</td>\n",
       "      <td>0.093</td>\n",
       "      <td>0.270</td>\n",
       "      <td>-999.0</td>\n",
       "    </tr>\n",
       "    <tr>\n",
       "      <th>35</th>\n",
       "      <td>0.01507</td>\n",
       "      <td>0.083</td>\n",
       "      <td>28.3</td>\n",
       "      <td>91.6</td>\n",
       "      <td>93.7</td>\n",
       "      <td>58.5</td>\n",
       "      <td>66.1</td>\n",
       "      <td>7.157</td>\n",
       "      <td>0.939</td>\n",
       "      <td>0.800</td>\n",
       "      <td>0.031</td>\n",
       "      <td>0.753</td>\n",
       "      <td>-999.0</td>\n",
       "    </tr>\n",
       "    <tr>\n",
       "      <th>45</th>\n",
       "      <td>0.00826</td>\n",
       "      <td>0.088</td>\n",
       "      <td>49.2</td>\n",
       "      <td>82.0</td>\n",
       "      <td>81.8</td>\n",
       "      <td>65.1</td>\n",
       "      <td>75.3</td>\n",
       "      <td>7.277</td>\n",
       "      <td>0.948</td>\n",
       "      <td>0.929</td>\n",
       "      <td>0.134</td>\n",
       "      <td>0.242</td>\n",
       "      <td>-999.0</td>\n",
       "    </tr>\n",
       "    <tr>\n",
       "      <th>44</th>\n",
       "      <td>0.02689</td>\n",
       "      <td>0.180</td>\n",
       "      <td>22.7</td>\n",
       "      <td>98.9</td>\n",
       "      <td>99.2</td>\n",
       "      <td>54.7</td>\n",
       "      <td>66.4</td>\n",
       "      <td>6.331</td>\n",
       "      <td>0.936</td>\n",
       "      <td>0.766</td>\n",
       "      <td>-0.124</td>\n",
       "      <td>0.911</td>\n",
       "      <td>-999.0</td>\n",
       "    </tr>\n",
       "  </tbody>\n",
       "</table>\n",
       "</div>"
      ],
      "text/plain": [
       "    growthRate    GII  Seats_parliament  F_secondary_educ  M_secondary_educ  \\\n",
       "39     0.00338  0.098              31.1              99.8              99.8   \n",
       "31     0.00737  0.016              45.0              99.1              99.3   \n",
       "35     0.01507  0.083              28.3              91.6              93.7   \n",
       "45     0.00826  0.088              49.2              82.0              81.8   \n",
       "44     0.02689  0.180              22.7              98.9              99.2   \n",
       "\n",
       "    F_Labour_force  M_Labour_force  happiness_score  Social support  \\\n",
       "39            58.0            67.1            7.064           0.934   \n",
       "31            60.3            72.0            7.392           0.954   \n",
       "35            58.5            66.1            7.157           0.939   \n",
       "45            65.1            75.3            7.277           0.948   \n",
       "44            54.7            66.4            6.331           0.936   \n",
       "\n",
       "    Freedom to make life choices  Generosity  Perceptions of corruption  \\\n",
       "39                         0.859       0.233                      0.459   \n",
       "31                         0.960       0.093                      0.270   \n",
       "35                         0.800       0.031                      0.753   \n",
       "45                         0.929       0.134                      0.242   \n",
       "44                         0.766      -0.124                      0.911   \n",
       "\n",
       "    household_size  \n",
       "39          -999.0  \n",
       "31          -999.0  \n",
       "35          -999.0  \n",
       "45          -999.0  \n",
       "44          -999.0  "
      ]
     },
     "execution_count": 50,
     "metadata": {},
     "output_type": "execute_result"
    }
   ],
   "source": [
    "X_train.head()"
   ]
  },
  {
   "cell_type": "code",
   "execution_count": 51,
   "id": "438174cf",
   "metadata": {},
   "outputs": [
    {
     "name": "stdout",
     "output_type": "stream",
     "text": [
      "train: 0.48538825483926795\n",
      "test: 0.11433935829089903\n"
     ]
    }
   ],
   "source": [
    "rfr.fit(X_train, y_train)\n",
    "print('train:', rfr.score(X_train, y_train))\n",
    "print('test:', rfr.score(X_val, y_val))"
   ]
  },
  {
   "cell_type": "code",
   "execution_count": 52,
   "id": "efaffd67",
   "metadata": {},
   "outputs": [
    {
     "data": {
      "image/png": "[encoded data removed]",
      "text/plain": [
       "<Figure size 1512x633.6 with 1 Axes>"
      ]
     },
     "metadata": {
      "needs_background": "light"
     },
     "output_type": "display_data"
    }
   ],
   "source": [
    "inspector=get_inspector(rfr.estimators_[0], X, y)\n",
    "ax=inspector.show_model(max_depth=3)"
   ]
  },
  {
   "cell_type": "code",
   "execution_count": 53,
   "id": "b1aa61b5",
   "metadata": {},
   "outputs": [
    {
     "data": {
      "text/html": [
       "<div>\n",
       "<style scoped>\n",
       "    .dataframe tbody tr th:only-of-type {\n",
       "        vertical-align: middle;\n",
       "    }\n",
       "\n",
       "    .dataframe tbody tr th {\n",
       "        vertical-align: top;\n",
       "    }\n",
       "\n",
       "    .dataframe thead th {\n",
       "        text-align: right;\n",
       "    }\n",
       "</style>\n",
       "<table border=\"1\" class=\"dataframe\">\n",
       "  <thead>\n",
       "    <tr style=\"text-align: right;\">\n",
       "      <th></th>\n",
       "      <th>index</th>\n",
       "      <th>importance</th>\n",
       "      <th>cumulative_importance</th>\n",
       "    </tr>\n",
       "  </thead>\n",
       "  <tbody>\n",
       "    <tr>\n",
       "      <th>0</th>\n",
       "      <td>GII</td>\n",
       "      <td>0.115132</td>\n",
       "      <td>0.115132</td>\n",
       "    </tr>\n",
       "    <tr>\n",
       "      <th>1</th>\n",
       "      <td>F_Labour_force</td>\n",
       "      <td>0.109446</td>\n",
       "      <td>0.224578</td>\n",
       "    </tr>\n",
       "    <tr>\n",
       "      <th>2</th>\n",
       "      <td>M_Labour_force</td>\n",
       "      <td>0.109443</td>\n",
       "      <td>0.334021</td>\n",
       "    </tr>\n",
       "    <tr>\n",
       "      <th>3</th>\n",
       "      <td>growthRate</td>\n",
       "      <td>0.089573</td>\n",
       "      <td>0.423594</td>\n",
       "    </tr>\n",
       "    <tr>\n",
       "      <th>4</th>\n",
       "      <td>F_secondary_educ</td>\n",
       "      <td>0.074026</td>\n",
       "      <td>0.497620</td>\n",
       "    </tr>\n",
       "    <tr>\n",
       "      <th>5</th>\n",
       "      <td>Perceptions of corruption</td>\n",
       "      <td>0.073961</td>\n",
       "      <td>0.571580</td>\n",
       "    </tr>\n",
       "    <tr>\n",
       "      <th>6</th>\n",
       "      <td>household_size</td>\n",
       "      <td>0.071941</td>\n",
       "      <td>0.643521</td>\n",
       "    </tr>\n",
       "    <tr>\n",
       "      <th>7</th>\n",
       "      <td>Generosity</td>\n",
       "      <td>0.066523</td>\n",
       "      <td>0.710044</td>\n",
       "    </tr>\n",
       "    <tr>\n",
       "      <th>8</th>\n",
       "      <td>happiness_score</td>\n",
       "      <td>0.064654</td>\n",
       "      <td>0.774698</td>\n",
       "    </tr>\n",
       "    <tr>\n",
       "      <th>9</th>\n",
       "      <td>M_secondary_educ</td>\n",
       "      <td>0.062852</td>\n",
       "      <td>0.837550</td>\n",
       "    </tr>\n",
       "    <tr>\n",
       "      <th>10</th>\n",
       "      <td>Freedom to make life choices</td>\n",
       "      <td>0.058513</td>\n",
       "      <td>0.896063</td>\n",
       "    </tr>\n",
       "    <tr>\n",
       "      <th>11</th>\n",
       "      <td>Social support</td>\n",
       "      <td>0.053655</td>\n",
       "      <td>0.949717</td>\n",
       "    </tr>\n",
       "    <tr>\n",
       "      <th>12</th>\n",
       "      <td>Seats_parliament</td>\n",
       "      <td>0.050283</td>\n",
       "      <td>1.000000</td>\n",
       "    </tr>\n",
       "  </tbody>\n",
       "</table>\n",
       "</div>"
      ],
      "text/plain": [
       "                           index  importance  cumulative_importance\n",
       "0                            GII    0.115132               0.115132\n",
       "1                 F_Labour_force    0.109446               0.224578\n",
       "2                 M_Labour_force    0.109443               0.334021\n",
       "3                     growthRate    0.089573               0.423594\n",
       "4               F_secondary_educ    0.074026               0.497620\n",
       "5      Perceptions of corruption    0.073961               0.571580\n",
       "6                 household_size    0.071941               0.643521\n",
       "7                     Generosity    0.066523               0.710044\n",
       "8                happiness_score    0.064654               0.774698\n",
       "9               M_secondary_educ    0.062852               0.837550\n",
       "10  Freedom to make life choices    0.058513               0.896063\n",
       "11                Social support    0.053655               0.949717\n",
       "12              Seats_parliament    0.050283               1.000000"
      ]
     },
     "execution_count": 53,
     "metadata": {},
     "output_type": "execute_result"
    }
   ],
   "source": [
    "#pd.Series(grid.best_estimator_.feature_importances_, X.columns).sort_values().plot.barh()\n",
    "div_feat=pd.DataFrame(rfr.feature_importances_, X_train.columns)\n",
    "div_feat.columns=['importance']\n",
    "div_feat=div_feat.sort_values(by='importance', ascending=False).reset_index(drop=False)\n",
    "div_feat['cumulative_importance']=div_feat['importance'].cumsum()\n",
    "div_feat"
   ]
  },
  {
   "cell_type": "code",
   "execution_count": 54,
   "id": "09f96f7c",
   "metadata": {},
   "outputs": [
    {
     "name": "stdout",
     "output_type": "stream",
     "text": [
      "Fitting 5 folds for each of 36 candidates, totalling 180 fits\n"
     ]
    },
    {
     "data": {
      "text/plain": [
       "GridSearchCV(cv=KFold(n_splits=5, random_state=1, shuffle=True),\n",
       "             estimator=RandomForestRegressor(n_jobs=-1, random_state=1),\n",
       "             param_grid={'max_depth': [3, 5, 10],\n",
       "                         'max_features': [1.0, 0.5, 0.3],\n",
       "                         'n_estimators': [7, 10, 20, 100]},\n",
       "             return_train_score=True, scoring='neg_mean_absolute_error',\n",
       "             verbose=True)"
      ]
     },
     "execution_count": 54,
     "metadata": {},
     "output_type": "execute_result"
    }
   ],
   "source": [
    "grid = GridSearchCV(\n",
    "    estimator=RandomForestRegressor(n_jobs=-1, random_state=1),\n",
    "    param_grid={'n_estimators': [7, 10, 20, 100],\n",
    "               'max_features': [1.0, 0.5, 0.3],\n",
    "               'max_depth':[3, 5, 10]},\n",
    "    cv=KFold(5, shuffle=True, random_state=1),\n",
    "    scoring='neg_mean_absolute_error',\n",
    "    return_train_score=True,\n",
    "    verbose=True\n",
    ")\n",
    "grid.fit(X_train, y_train)"
   ]
  },
  {
   "cell_type": "code",
   "execution_count": 55,
   "id": "b4632bc9",
   "metadata": {},
   "outputs": [
    {
     "data": {
      "text/plain": [
       "(-0.603564014351782,\n",
       " {'max_depth': 3, 'max_features': 0.3, 'n_estimators': 100})"
      ]
     },
     "execution_count": 55,
     "metadata": {},
     "output_type": "execute_result"
    }
   ],
   "source": [
    "grid.best_score_, grid.best_params_"
   ]
  },
  {
   "cell_type": "markdown",
   "id": "bf07b6c3",
   "metadata": {},
   "source": [
    "<h4>Shapley values<h4>"
   ]
  },
  {
   "cell_type": "code",
   "execution_count": 56,
   "id": "c345b4c5",
   "metadata": {},
   "outputs": [],
   "source": [
    "explainer = shap.Explainer(rfr, X)\n"
   ]
  },
  {
   "cell_type": "code",
   "execution_count": 57,
   "id": "1be952f9",
   "metadata": {},
   "outputs": [],
   "source": [
    "shap_values = explainer(X)"
   ]
  },
  {
   "cell_type": "code",
   "execution_count": 58,
   "id": "2b6bdede",
   "metadata": {},
   "outputs": [],
   "source": [
    "instance_index = 1 \n",
    "shap_values_instance = shap_values[instance_index]"
   ]
  },
  {
   "cell_type": "code",
   "execution_count": 59,
   "id": "eee766eb",
   "metadata": {},
   "outputs": [
    {
     "data": {
      "text/plain": [
       ".values =\n",
       "array([0.06303132, 0.12841816, 0.02830162, 0.04539879, 0.13856222,\n",
       "       0.18079068, 0.08394031, 0.02258777, 0.10159164, 0.00878931,\n",
       "       0.02416548, 0.06774414, 0.04985147])\n",
       "\n",
       ".base_values =\n",
       "1.696329082036362\n",
       "\n",
       ".data =\n",
       "array([ 1.076e-02,  1.610e-01,  2.450e+01,  9.980e+01,  1.000e+02,\n",
       "        6.330e+01,  7.550e+01,  6.152e+00,  9.520e-01,  8.530e-01,\n",
       "       -6.900e-02,  7.330e-01,  3.430e+00])"
      ]
     },
     "execution_count": 59,
     "metadata": {},
     "output_type": "execute_result"
    }
   ],
   "source": [
    "shap_values_instance"
   ]
  },
  {
   "cell_type": "code",
   "execution_count": 60,
   "id": "ee2c71ed",
   "metadata": {},
   "outputs": [
    {
     "data": {
      "text/plain": [
       "growthRate                        0.01076\n",
       "GII                               0.16100\n",
       "Seats_parliament                 24.50000\n",
       "F_secondary_educ                 99.80000\n",
       "M_secondary_educ                100.00000\n",
       "F_Labour_force                   63.30000\n",
       "M_Labour_force                   75.50000\n",
       "happiness_score                   6.15200\n",
       "Social support                    0.95200\n",
       "Freedom to make life choices      0.85300\n",
       "Generosity                       -0.06900\n",
       "Perceptions of corruption         0.73300\n",
       "household_size                    3.43000\n",
       "Name: 1, dtype: float64"
      ]
     },
     "execution_count": 60,
     "metadata": {},
     "output_type": "execute_result"
    }
   ],
   "source": [
    "X.loc[1,:]"
   ]
  },
  {
   "cell_type": "code",
   "execution_count": 61,
   "id": "2e5ec2ea",
   "metadata": {},
   "outputs": [
    {
     "name": "stderr",
     "output_type": "stream",
     "text": [
      "X does not have valid feature names, but RandomForestRegressor was fitted with feature names\n"
     ]
    },
    {
     "data": {
      "text/plain": [
       "array([2.63915249])"
      ]
     },
     "execution_count": 61,
     "metadata": {},
     "output_type": "execute_result"
    }
   ],
   "source": [
    "rfr.predict([X.loc[1,:]])"
   ]
  },
  {
   "cell_type": "code",
   "execution_count": 62,
   "id": "c51ac9bd",
   "metadata": {},
   "outputs": [
    {
     "data": {
      "text/plain": [
       "2.6395020115061962"
      ]
     },
     "execution_count": 62,
     "metadata": {},
     "output_type": "execute_result"
    }
   ],
   "source": [
    "shap_values_instance.values.sum()+shap_values_instance.base_values"
   ]
  },
  {
   "cell_type": "code",
   "execution_count": 63,
   "id": "d4c3e27f",
   "metadata": {},
   "outputs": [
    {
     "data": {
      "text/plain": [
       "[0.06303132405710957,\n",
       " 0.12841815991586455,\n",
       " 0.028301618768389082,\n",
       " 0.045398792394817894,\n",
       " 0.1385622227257541,\n",
       " 0.1807906842573588,\n",
       " 0.08394030879637947,\n",
       " 0.022587769926758483,\n",
       " 0.10159164408370006,\n",
       " 0.008789314200509001,\n",
       " 0.02416548001532316,\n",
       " 0.06774413866117936,\n",
       " 0.04985147166669115]"
      ]
     },
     "execution_count": 63,
     "metadata": {},
     "output_type": "execute_result"
    }
   ],
   "source": [
    "list(shap_values_instance.values)"
   ]
  },
  {
   "cell_type": "markdown",
   "id": "324d8083",
   "metadata": {},
   "source": [
    "<h4> VIsualization<h4>"
   ]
  },
  {
   "cell_type": "code",
   "execution_count": 64,
   "id": "c9ea74e4",
   "metadata": {},
   "outputs": [],
   "source": [
    "div_all=pd.merge(div_all, hap[['country', 'Regional indicator']], on='country')"
   ]
  },
  {
   "cell_type": "code",
   "execution_count": 65,
   "id": "adff1c0b",
   "metadata": {},
   "outputs": [],
   "source": [
    "div_rates=pd.read_excel('../final_proposal_data/Divorce Rates.xlsx')"
   ]
  },
  {
   "cell_type": "code",
   "execution_count": 66,
   "id": "176dfc88",
   "metadata": {},
   "outputs": [],
   "source": [
    "div_all=div_all.merge(div_rates, on='country', how='inner')"
   ]
  },
  {
   "cell_type": "code",
   "execution_count": 67,
   "id": "963d396b",
   "metadata": {},
   "outputs": [
    {
     "data": {
      "text/plain": [
       "Index(['country', 'divorce_rate', 'growthRate', 'GII', 'Human_development',\n",
       "       'Seats_parliament', 'F_secondary_educ', 'M_secondary_educ',\n",
       "       'F_Labour_force', 'M_Labour_force', 'happiness_score', 'Social support',\n",
       "       'Freedom to make life choices', 'Generosity',\n",
       "       'Perceptions of corruption', 'household_size', 'Regional indicator',\n",
       "       'Continent', 'Marriage', 'Divorce', 'Actual', 'Percent', 'Column1'],\n",
       "      dtype='object')"
      ]
     },
     "execution_count": 67,
     "metadata": {},
     "output_type": "execute_result"
    }
   ],
   "source": [
    "div_all.columns"
   ]
  },
  {
   "cell_type": "code",
   "execution_count": 69,
   "id": "f85fde59",
   "metadata": {},
   "outputs": [],
   "source": [
    "keyword_mappings = {\n",
    "    'Europe': 'Europe',\n",
    "    'Asia': 'Asia',\n",
    "    'States':'CIS',\n",
    "    'Latin America and Caribbean':'LAC',\n",
    "    'Middle East and North Africa': 'MENA',\n",
    "    'North America and ANZ':'NA & ANZ',\n",
    "    'Africa':'Africa'\n",
    "}\n",
    "\n",
    "def assign_region(row):\n",
    "    for keyword, region in keyword_mappings.items():\n",
    "        if keyword in row['Regional indicator']:\n",
    "            return region\n",
    "    return None  \n",
    "\n",
    "div_all['Region'] = div_all.apply(assign_region, axis=1)"
   ]
  },
  {
   "cell_type": "code",
   "execution_count": 70,
   "id": "6e5edf8d",
   "metadata": {},
   "outputs": [],
   "source": [
    "div_all['GII10']=div_all['GII']*10"
   ]
  },
  {
   "cell_type": "code",
   "execution_count": 71,
   "id": "d516a5f4",
   "metadata": {},
   "outputs": [],
   "source": [
    "div_all['marriage_rate']=div_all['Marriage']-div_all['divorce_rate']"
   ]
  },
  {
   "cell_type": "code",
   "execution_count": 88,
   "id": "6e4f22d8",
   "metadata": {},
   "outputs": [],
   "source": [
    "div_all['F_education']=div_all['F_secondary_educ']/10"
   ]
  },
  {
   "cell_type": "code",
   "execution_count": 91,
   "id": "cb1b311a",
   "metadata": {},
   "outputs": [],
   "source": [
    "div_all.rename(columns={'growthRate':'pop_growth_rate'}, inplace=True)"
   ]
  },
  {
   "cell_type": "code",
   "execution_count": 101,
   "id": "759cc02c",
   "metadata": {},
   "outputs": [],
   "source": [
    "div_all['pop_growth_rate']=div_all['pop_growth_rate']*1000"
   ]
  },
  {
   "cell_type": "code",
   "execution_count": 104,
   "id": "ae925097",
   "metadata": {},
   "outputs": [],
   "source": [
    "div_all['F_labor']=div_all['F_Labour_force']/10"
   ]
  },
  {
   "cell_type": "code",
   "execution_count": 109,
   "id": "d53863fe",
   "metadata": {},
   "outputs": [],
   "source": [
    "div_all['M_education']=div_all['M_secondary_educ']/10"
   ]
  },
  {
   "cell_type": "code",
   "execution_count": 110,
   "id": "152635d0",
   "metadata": {},
   "outputs": [],
   "source": [
    "div_all['M_labor']=div_all['M_Labour_force']/10"
   ]
  },
  {
   "cell_type": "code",
   "execution_count": 116,
   "id": "41b3b4ab",
   "metadata": {
    "scrolled": true
   },
   "outputs": [
    {
     "data": {
      "text/html": [
       "<div>\n",
       "<style scoped>\n",
       "    .dataframe tbody tr th:only-of-type {\n",
       "        vertical-align: middle;\n",
       "    }\n",
       "\n",
       "    .dataframe tbody tr th {\n",
       "        vertical-align: top;\n",
       "    }\n",
       "\n",
       "    .dataframe thead th {\n",
       "        text-align: right;\n",
       "    }\n",
       "</style>\n",
       "<table border=\"1\" class=\"dataframe\">\n",
       "  <thead>\n",
       "    <tr style=\"text-align: right;\">\n",
       "      <th></th>\n",
       "      <th>divorce_rate</th>\n",
       "      <th>marriage_rate</th>\n",
       "      <th>GII10</th>\n",
       "      <th>pop_growth_rate</th>\n",
       "      <th>F_education</th>\n",
       "      <th>F_labor</th>\n",
       "      <th>M_education</th>\n",
       "      <th>Social support</th>\n",
       "    </tr>\n",
       "    <tr>\n",
       "      <th>Region</th>\n",
       "      <th></th>\n",
       "      <th></th>\n",
       "      <th></th>\n",
       "      <th></th>\n",
       "      <th></th>\n",
       "      <th></th>\n",
       "      <th></th>\n",
       "      <th></th>\n",
       "    </tr>\n",
       "  </thead>\n",
       "  <tbody>\n",
       "    <tr>\n",
       "      <th>CIS</th>\n",
       "      <td>2.416364</td>\n",
       "      <td>5.470909</td>\n",
       "      <td>2.313636</td>\n",
       "      <td>2.806364</td>\n",
       "      <td>9.659091</td>\n",
       "      <td>4.803636</td>\n",
       "      <td>9.782727</td>\n",
       "      <td>0.862455</td>\n",
       "    </tr>\n",
       "    <tr>\n",
       "      <th>NA &amp; ANZ</th>\n",
       "      <td>2.100000</td>\n",
       "      <td>2.625000</td>\n",
       "      <td>1.022500</td>\n",
       "      <td>7.952500</td>\n",
       "      <td>9.327500</td>\n",
       "      <td>6.055000</td>\n",
       "      <td>9.315000</td>\n",
       "      <td>0.933500</td>\n",
       "    </tr>\n",
       "    <tr>\n",
       "      <th>Europe</th>\n",
       "      <td>1.828571</td>\n",
       "      <td>3.020000</td>\n",
       "      <td>0.972857</td>\n",
       "      <td>2.386000</td>\n",
       "      <td>9.111714</td>\n",
       "      <td>5.298857</td>\n",
       "      <td>9.346000</td>\n",
       "      <td>0.909829</td>\n",
       "    </tr>\n",
       "    <tr>\n",
       "      <th>MENA</th>\n",
       "      <td>1.745455</td>\n",
       "      <td>6.090909</td>\n",
       "      <td>3.199091</td>\n",
       "      <td>7.482727</td>\n",
       "      <td>6.940909</td>\n",
       "      <td>2.990909</td>\n",
       "      <td>7.142727</td>\n",
       "      <td>0.822091</td>\n",
       "    </tr>\n",
       "    <tr>\n",
       "      <th>Asia</th>\n",
       "      <td>1.472222</td>\n",
       "      <td>3.925000</td>\n",
       "      <td>2.150000</td>\n",
       "      <td>4.094444</td>\n",
       "      <td>7.611111</td>\n",
       "      <td>5.443333</td>\n",
       "      <td>7.933333</td>\n",
       "      <td>0.858444</td>\n",
       "    </tr>\n",
       "    <tr>\n",
       "      <th>Africa</th>\n",
       "      <td>1.100000</td>\n",
       "      <td>4.750000</td>\n",
       "      <td>3.760000</td>\n",
       "      <td>4.765000</td>\n",
       "      <td>6.665000</td>\n",
       "      <td>4.480000</td>\n",
       "      <td>7.925000</td>\n",
       "      <td>0.882500</td>\n",
       "    </tr>\n",
       "    <tr>\n",
       "      <th>LAC</th>\n",
       "      <td>1.000000</td>\n",
       "      <td>3.442857</td>\n",
       "      <td>3.637143</td>\n",
       "      <td>7.734286</td>\n",
       "      <td>6.147143</td>\n",
       "      <td>4.736429</td>\n",
       "      <td>6.086429</td>\n",
       "      <td>0.857500</td>\n",
       "    </tr>\n",
       "  </tbody>\n",
       "</table>\n",
       "</div>"
      ],
      "text/plain": [
       "          divorce_rate  marriage_rate     GII10  pop_growth_rate  F_education  \\\n",
       "Region                                                                          \n",
       "CIS           2.416364       5.470909  2.313636         2.806364     9.659091   \n",
       "NA & ANZ      2.100000       2.625000  1.022500         7.952500     9.327500   \n",
       "Europe        1.828571       3.020000  0.972857         2.386000     9.111714   \n",
       "MENA          1.745455       6.090909  3.199091         7.482727     6.940909   \n",
       "Asia          1.472222       3.925000  2.150000         4.094444     7.611111   \n",
       "Africa        1.100000       4.750000  3.760000         4.765000     6.665000   \n",
       "LAC           1.000000       3.442857  3.637143         7.734286     6.147143   \n",
       "\n",
       "           F_labor  M_education  Social support  \n",
       "Region                                           \n",
       "CIS       4.803636     9.782727        0.862455  \n",
       "NA & ANZ  6.055000     9.315000        0.933500  \n",
       "Europe    5.298857     9.346000        0.909829  \n",
       "MENA      2.990909     7.142727        0.822091  \n",
       "Asia      5.443333     7.933333        0.858444  \n",
       "Africa    4.480000     7.925000        0.882500  \n",
       "LAC       4.736429     6.086429        0.857500  "
      ]
     },
     "execution_count": 116,
     "metadata": {},
     "output_type": "execute_result"
    }
   ],
   "source": [
    "div_by_region=div_all.groupby('Region').mean().sort_values(by='divorce_rate', ascending=False)[[\n",
    "    'divorce_rate', 'marriage_rate', 'GII10', 'pop_growth_rate', 'F_education', 'F_labor', 'M_education', 'Social support']]\n",
    "div_by_region"
   ]
  },
  {
   "cell_type": "code",
   "execution_count": 117,
   "id": "45b48b55",
   "metadata": {},
   "outputs": [
    {
     "data": {
      "text/plain": [
       "Text(0.5, 1.0, 'Divorce rate and other indicators by region')"
      ]
     },
     "execution_count": 117,
     "metadata": {},
     "output_type": "execute_result"
    },
    {
     "data": {
      "image/png": "[encoded data removed]",
      "text/plain": [
       "<Figure size 864x648 with 1 Axes>"
      ]
     },
     "metadata": {
      "needs_background": "light"
     },
     "output_type": "display_data"
    }
   ],
   "source": [
    "ax=div_by_region.plot.bar(figsize=(12, 9))\n",
    "ax.set_title(\"Divorce rate and other indicators by region\")"
   ]
  },
  {
   "cell_type": "code",
   "execution_count": 118,
   "id": "44c45435",
   "metadata": {},
   "outputs": [
    {
     "data": {
      "text/html": [
       "<div>\n",
       "<style scoped>\n",
       "    .dataframe tbody tr th:only-of-type {\n",
       "        vertical-align: middle;\n",
       "    }\n",
       "\n",
       "    .dataframe tbody tr th {\n",
       "        vertical-align: top;\n",
       "    }\n",
       "\n",
       "    .dataframe thead th {\n",
       "        text-align: right;\n",
       "    }\n",
       "</style>\n",
       "<table border=\"1\" class=\"dataframe\">\n",
       "  <thead>\n",
       "    <tr style=\"text-align: right;\">\n",
       "      <th></th>\n",
       "      <th>divorce_rate</th>\n",
       "      <th>marriage_rate</th>\n",
       "      <th>GII10</th>\n",
       "      <th>pop_growth_rate</th>\n",
       "      <th>F_education</th>\n",
       "      <th>F_labor</th>\n",
       "      <th>M_education</th>\n",
       "      <th>Social support</th>\n",
       "    </tr>\n",
       "  </thead>\n",
       "  <tbody>\n",
       "    <tr>\n",
       "      <th>divorce_rate</th>\n",
       "      <td>1.000000</td>\n",
       "      <td>0.119140</td>\n",
       "      <td>-0.666677</td>\n",
       "      <td>-0.285976</td>\n",
       "      <td>0.905601</td>\n",
       "      <td>0.195639</td>\n",
       "      <td>0.819254</td>\n",
       "      <td>0.245586</td>\n",
       "    </tr>\n",
       "    <tr>\n",
       "      <th>marriage_rate</th>\n",
       "      <td>0.119140</td>\n",
       "      <td>1.000000</td>\n",
       "      <td>0.573508</td>\n",
       "      <td>-0.085708</td>\n",
       "      <td>-0.228636</td>\n",
       "      <td>-0.838326</td>\n",
       "      <td>-0.151254</td>\n",
       "      <td>-0.791771</td>\n",
       "    </tr>\n",
       "    <tr>\n",
       "      <th>GII10</th>\n",
       "      <td>-0.666677</td>\n",
       "      <td>0.573508</td>\n",
       "      <td>1.000000</td>\n",
       "      <td>0.304886</td>\n",
       "      <td>-0.849204</td>\n",
       "      <td>-0.681375</td>\n",
       "      <td>-0.761351</td>\n",
       "      <td>-0.696473</td>\n",
       "    </tr>\n",
       "    <tr>\n",
       "      <th>pop_growth_rate</th>\n",
       "      <td>-0.285976</td>\n",
       "      <td>-0.085708</td>\n",
       "      <td>0.304886</td>\n",
       "      <td>1.000000</td>\n",
       "      <td>-0.464588</td>\n",
       "      <td>-0.205484</td>\n",
       "      <td>-0.589236</td>\n",
       "      <td>-0.107866</td>\n",
       "    </tr>\n",
       "    <tr>\n",
       "      <th>F_education</th>\n",
       "      <td>0.905601</td>\n",
       "      <td>-0.228636</td>\n",
       "      <td>-0.849204</td>\n",
       "      <td>-0.464588</td>\n",
       "      <td>1.000000</td>\n",
       "      <td>0.538320</td>\n",
       "      <td>0.949807</td>\n",
       "      <td>0.569909</td>\n",
       "    </tr>\n",
       "    <tr>\n",
       "      <th>F_labor</th>\n",
       "      <td>0.195639</td>\n",
       "      <td>-0.838326</td>\n",
       "      <td>-0.681375</td>\n",
       "      <td>-0.205484</td>\n",
       "      <td>0.538320</td>\n",
       "      <td>1.000000</td>\n",
       "      <td>0.505889</td>\n",
       "      <td>0.812064</td>\n",
       "    </tr>\n",
       "    <tr>\n",
       "      <th>M_education</th>\n",
       "      <td>0.819254</td>\n",
       "      <td>-0.151254</td>\n",
       "      <td>-0.761351</td>\n",
       "      <td>-0.589236</td>\n",
       "      <td>0.949807</td>\n",
       "      <td>0.505889</td>\n",
       "      <td>1.000000</td>\n",
       "      <td>0.605881</td>\n",
       "    </tr>\n",
       "    <tr>\n",
       "      <th>Social support</th>\n",
       "      <td>0.245586</td>\n",
       "      <td>-0.791771</td>\n",
       "      <td>-0.696473</td>\n",
       "      <td>-0.107866</td>\n",
       "      <td>0.569909</td>\n",
       "      <td>0.812064</td>\n",
       "      <td>0.605881</td>\n",
       "      <td>1.000000</td>\n",
       "    </tr>\n",
       "  </tbody>\n",
       "</table>\n",
       "</div>"
      ],
      "text/plain": [
       "                 divorce_rate  marriage_rate     GII10  pop_growth_rate  \\\n",
       "divorce_rate         1.000000       0.119140 -0.666677        -0.285976   \n",
       "marriage_rate        0.119140       1.000000  0.573508        -0.085708   \n",
       "GII10               -0.666677       0.573508  1.000000         0.304886   \n",
       "pop_growth_rate     -0.285976      -0.085708  0.304886         1.000000   \n",
       "F_education          0.905601      -0.228636 -0.849204        -0.464588   \n",
       "F_labor              0.195639      -0.838326 -0.681375        -0.205484   \n",
       "M_education          0.819254      -0.151254 -0.761351        -0.589236   \n",
       "Social support       0.245586      -0.791771 -0.696473        -0.107866   \n",
       "\n",
       "                 F_education   F_labor  M_education  Social support  \n",
       "divorce_rate        0.905601  0.195639     0.819254        0.245586  \n",
       "marriage_rate      -0.228636 -0.838326    -0.151254       -0.791771  \n",
       "GII10              -0.849204 -0.681375    -0.761351       -0.696473  \n",
       "pop_growth_rate    -0.464588 -0.205484    -0.589236       -0.107866  \n",
       "F_education         1.000000  0.538320     0.949807        0.569909  \n",
       "F_labor             0.538320  1.000000     0.505889        0.812064  \n",
       "M_education         0.949807  0.505889     1.000000        0.605881  \n",
       "Social support      0.569909  0.812064     0.605881        1.000000  "
      ]
     },
     "execution_count": 118,
     "metadata": {},
     "output_type": "execute_result"
    }
   ],
   "source": [
    "div_by_region.corr()"
   ]
  },
  {
   "cell_type": "code",
   "execution_count": 114,
   "id": "769d773a",
   "metadata": {},
   "outputs": [
    {
     "data": {
      "text/plain": [
       "Text(0.5, 1.0, 'Stacked Chart: Divorce and Marriage Rates by Region')"
      ]
     },
     "execution_count": 114,
     "metadata": {},
     "output_type": "execute_result"
    },
    {
     "data": {
      "image/png": "[encoded data removed]",
      "text/plain": [
       "<Figure size 432x288 with 1 Axes>"
      ]
     },
     "metadata": {
      "needs_background": "light"
     },
     "output_type": "display_data"
    }
   ],
   "source": [
    "div_mar_by_region=div_by_region[['divorce_rate', 'marriage_rate']]\n",
    "ax=div_mar_by_region.plot.barh(stacked=True)\n",
    "ax.legend(bbox_to_anchor=(1,1))\n",
    "ax.set_title('Stacked Chart: Divorce and Marriage Rates by Region')"
   ]
  },
  {
   "cell_type": "code",
   "execution_count": 115,
   "id": "f1e79f6a",
   "metadata": {},
   "outputs": [
    {
     "data": {
      "image/png": "[encoded data removed]",
      "text/plain": [
       "<Figure size 432x288 with 1 Axes>"
      ]
     },
     "metadata": {
      "needs_background": "light"
     },
     "output_type": "display_data"
    }
   ],
   "source": [
    "div_mar_by_region_percent = div_mar_by_region.div(div_mar_by_region.sum(axis=1), axis=0) * 100\n",
    "\n",
    "ax = div_mar_by_region_percent.plot.barh(stacked=True)\n",
    "\n",
    "ax.legend(bbox_to_anchor=(1, 1))\n",
    "\n",
    "ax.set_xlabel('Percentage')\n",
    "ax.set_ylabel('Region')\n",
    "ax.set_title('Percent Stacked Chart: Divorce and Marriage Rates by Region')\n",
    "\n",
    "plt.show()"
   ]
  },
  {
   "cell_type": "code",
   "execution_count": null,
   "id": "29fb237a",
   "metadata": {},
   "outputs": [],
   "source": []
  }
 ],
 "metadata": {
  "kernelspec": {
   "display_name": "Python 3 (ipykernel)",
   "language": "python",
   "name": "python3"
  },
  "language_info": {
   "codemirror_mode": {
    "name": "ipython",
    "version": 3
   },
   "file_extension": ".py",
   "mimetype": "text/x-python",
   "name": "python",
   "nbconvert_exporter": "python",
   "pygments_lexer": "ipython3",
   "version": "3.9.12"
  }
 },
 "nbformat": 4,
 "nbformat_minor": 5
}
